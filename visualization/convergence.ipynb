{
 "cells": [
  {
   "cell_type": "markdown",
   "metadata": {},
   "source": [
    "## 验证RG会提升收敛速度"
   ]
  },
  {
   "cell_type": "code",
   "execution_count": 12,
   "metadata": {},
   "outputs": [],
   "source": [
    "import numpy as np\n",
    "\n",
    "dataset='cifar10'\n",
    "tasks=['resnet34-resnet18','vgg11-resnet18','wrn40_2-wrn40_1','wrn40_2-wrn16_1','wrn40_2-wrn16_2']\n",
    "header=\"a-r34r18,r-r34r18,a-v11r18,r-v11r18,a-w402w401,r-w402w401,a-w402w161,r-w402w161,a-w402w162,r-w402w162\"\n",
    "base_path='run/'\n",
    "end_path='/generator_loss.npy'\n",
    "for index in range(len(tasks)):\n",
    "    apath=base_path+'anew-'+dataset+'-'+tasks[index]+end_path\n",
    "    rpath=base_path+'reuse_common-'+dataset+'-'+tasks[index]+end_path\n",
    "    if index==0:\n",
    "        data=np.load(apath)\n",
    "        temp=np.load(rpath)\n",
    "        data=np.vstack((data,temp))\n",
    "    else:\n",
    "        temp=np.load(apath)\n",
    "        data=np.vstack((data,temp))\n",
    "        del temp\n",
    "        temp=np.load(rpath)\n",
    "        data=np.vstack((data,temp))\n",
    "np.savetxt(\"convergence_c10.csv\", data, delimiter=\",\", header=header)\n",
    "        "
   ]
  }
 ],
 "metadata": {
  "kernelspec": {
   "display_name": "Python 3",
   "language": "python",
   "name": "python3"
  },
  "language_info": {
   "codemirror_mode": {
    "name": "ipython",
    "version": 3
   },
   "file_extension": ".py",
   "mimetype": "text/x-python",
   "name": "python",
   "nbconvert_exporter": "python",
   "pygments_lexer": "ipython3",
   "version": "3.9.17"
  }
 },
 "nbformat": 4,
 "nbformat_minor": 2
}
